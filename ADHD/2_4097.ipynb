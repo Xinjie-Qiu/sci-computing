{
 "cells": [
  {
   "cell_type": "code",
   "execution_count": 1,
   "metadata": {
    "collapsed": false
   },
   "outputs": [
    {
     "name": "stdout",
     "output_type": "stream",
     "text": [
      "Optimal number of features : 26\n",
      "max score: 0.584795\n",
      "[ True False False ..., False False False]\n",
      "(array([   0,  164,  333,  419,  512,  578,  694,  849, 1248, 1287, 1351,\n",
      "       1576, 1908, 1911, 2052, 2059, 2450, 2729, 2870, 3157, 3338, 3434,\n",
      "       3647, 4050, 4084, 4085], dtype=int64),)\n",
      "cost time：143541.285811\n"
     ]
    }
   ],
   "source": [
    "#DX = 0,1 2+4005+90 no normal\n",
    "import pandas as pd\n",
    "import numpy as np\n",
    "import time\n",
    "starttime = time.clock() \n",
    "test = pd.read_csv('joint_all.csv')\n",
    "test=test[(test.DX == 0) | (test.DX == 1)] #取出DX為0跟1的case\n",
    "data=test.as_matrix() #將test存成矩陣\n",
    "\n",
    "X=data[:, np.append(np.array((2,3)),np.arange(4,data.shape[1]))] #取出ecxel的2,3,4~最後 [1]為colume [0]為row\n",
    "\n",
    "y=data[:,1] #取出DX那一行\n",
    "X[np.isnan(X)]=0 #把 nan改成0\n",
    "\n",
    "#將X y隨機排序\n",
    "randsort=np.argsort(np.random.rand(y.size)) \n",
    "X=X[randsort]\n",
    "y=y[randsort]\n",
    "\n",
    "from sklearn.cross_validation import StratifiedKFold\n",
    "from sklearn.feature_selection import RFECV\n",
    "from sklearn.svm import SVC\n",
    "from sklearn.cross_validation import LeaveOneOut\n",
    "from sklearn.cross_validation import cross_val_score\n",
    "from sklearn import svm, metrics\n",
    "\n",
    "svc = SVC(kernel=\"linear\")\n",
    "rfecv = RFECV(estimator=svc, step=1, cv=LeaveOneOut(171), scoring='accuracy')\n",
    "rfecv.fit(X, y)\n",
    "print(\"Optimal number of features : %d\" % rfecv.n_features_)\n",
    "print(\"max score: %f\" % np.max(rfecv.grid_scores_))\n",
    "print rfecv.support_\n",
    "print np.nonzero(rfecv.support_)\n",
    "\n",
    "endtime = time.clock() \n",
    "print(\"cost time：%s\" %(endtime-starttime))"
   ]
  },
  {
   "cell_type": "code",
   "execution_count": 3,
   "metadata": {
    "collapsed": false
   },
   "outputs": [
    {
     "name": "stdout",
     "output_type": "stream",
     "text": [
      "Optimal number of features : 26\n",
      "max score: 0.970760\n",
      "[ True  True  True  True  True  True  True  True  True  True  True  True\n",
      "  True  True  True  True  True  True  True  True  True  True  True  True\n",
      "  True  True]\n",
      "(array([ 0,  1,  2,  3,  4,  5,  6,  7,  8,  9, 10, 11, 12, 13, 14, 15, 16,\n",
      "       17, 18, 19, 20, 21, 22, 23, 24, 25], dtype=int64),)\n",
      "cost time：14.2624667545\n"
     ]
    }
   ],
   "source": [
    "#DX = 0,1 2+4005+90 no normal\n",
    "import pandas as pd\n",
    "import numpy as np\n",
    "import time\n",
    "starttime = time.clock() \n",
    "test = pd.read_csv('joint_all.csv')\n",
    "test=test[(test.DX == 0) | (test.DX == 1)] #取出DX為0跟1的case\n",
    "data=test.as_matrix() #將test存成矩陣\n",
    "\n",
    "X=data[:, np.array((2,  166,  335,  421,  514,  580,  696,  851, 1250, 1289, 1353,\n",
    "       1578, 1910, 1913, 2054, 2061, 2452, 2731, 2872, 3159, 3340, 3436,\n",
    "       3649, 4052, 4086, 4087))]\n",
    "\n",
    "y=data[:,1] #取出DX那一行\n",
    "X[np.isnan(X)]=0 #把 nan改成0\n",
    "\n",
    "#將X y隨機排序\n",
    "randsort=np.argsort(np.random.rand(y.size)) \n",
    "X=X[randsort]\n",
    "y=y[randsort]\n",
    "\n",
    "from sklearn.cross_validation import StratifiedKFold\n",
    "from sklearn.feature_selection import RFECV\n",
    "from sklearn.svm import SVC\n",
    "from sklearn.cross_validation import LeaveOneOut\n",
    "from sklearn.cross_validation import cross_val_score\n",
    "from sklearn import svm, metrics\n",
    "\n",
    "svc = SVC(kernel=\"linear\")\n",
    "rfecv = RFECV(estimator=svc, step=1, cv=LeaveOneOut(171), scoring='accuracy')\n",
    "rfecv.fit(X, y)\n",
    "print(\"Optimal number of features : %d\" % rfecv.n_features_)\n",
    "print(\"max score: %f\" % np.max(rfecv.grid_scores_))\n",
    "print rfecv.support_\n",
    "print np.nonzero(rfecv.support_)\n",
    "\n",
    "endtime = time.clock() \n",
    "print(\"cost time：%s\" %(endtime-starttime))"
   ]
  },
  {
   "cell_type": "code",
   "execution_count": 5,
   "metadata": {
    "collapsed": false
   },
   "outputs": [
    {
     "name": "stdout",
     "output_type": "stream",
     "text": [
      "Optimal number of features : 22\n",
      "max score: 0.836257\n",
      "[ True  True  True  True  True  True  True  True  True  True  True  True\n",
      "  True  True  True  True  True  True  True  True  True  True]\n",
      "(array([ 0,  1,  2,  3,  4,  5,  6,  7,  8,  9, 10, 11, 12, 13, 14, 15, 16,\n",
      "       17, 18, 19, 20, 21], dtype=int64),)\n",
      "cost time：11.8981475263\n"
     ]
    }
   ],
   "source": [
    "#DX = 0,1 2+4005+90 no normal\n",
    "import pandas as pd\n",
    "import numpy as np\n",
    "import time\n",
    "starttime = time.clock() \n",
    "test = pd.read_csv('joint_all.csv')\n",
    "test=test[(test.DX == 0) | (test.DX == 1)] #取出DX為0跟1的case\n",
    "data=test.as_matrix() #將test存成矩陣\n",
    "\n",
    "X=data[:, np.array((166,  335,  421,  514,  580,  696,  851, 1250, 1289, 1353,\n",
    "       1578, 1910, 1913, 2054, 2061, 2452, 2731, 2872, 3159, 3340, 3436,\n",
    "       3649))]\n",
    "\n",
    "y=data[:,1] #取出DX那一行\n",
    "X[np.isnan(X)]=0 #把 nan改成0\n",
    "\n",
    "#將X y隨機排序\n",
    "randsort=np.argsort(np.random.rand(y.size)) \n",
    "X=X[randsort]\n",
    "y=y[randsort]\n",
    "\n",
    "from sklearn.cross_validation import StratifiedKFold\n",
    "from sklearn.feature_selection import RFECV\n",
    "from sklearn.svm import SVC\n",
    "from sklearn.cross_validation import LeaveOneOut\n",
    "from sklearn.cross_validation import cross_val_score\n",
    "from sklearn import svm, metrics\n",
    "\n",
    "svc = SVC(kernel=\"linear\")\n",
    "rfecv = RFECV(estimator=svc, step=1, cv=LeaveOneOut(171), scoring='accuracy')\n",
    "rfecv.fit(X, y)\n",
    "print(\"Optimal number of features : %d\" % rfecv.n_features_)\n",
    "print(\"max score: %f\" % np.max(rfecv.grid_scores_))\n",
    "print rfecv.support_\n",
    "print np.nonzero(rfecv.support_)\n",
    "\n",
    "endtime = time.clock() \n",
    "print(\"cost time：%s\" %(endtime-starttime))"
   ]
  },
  {
   "cell_type": "code",
   "execution_count": null,
   "metadata": {
    "collapsed": true
   },
   "outputs": [],
   "source": []
  }
 ],
 "metadata": {
  "kernelspec": {
   "display_name": "Python 2",
   "language": "python",
   "name": "python2"
  },
  "language_info": {
   "codemirror_mode": {
    "name": "ipython",
    "version": 2
   },
   "file_extension": ".py",
   "mimetype": "text/x-python",
   "name": "python",
   "nbconvert_exporter": "python",
   "pygments_lexer": "ipython2",
   "version": "2.7.11"
  }
 },
 "nbformat": 4,
 "nbformat_minor": 0
}
