{
 "cells": [
  {
   "cell_type": "code",
   "execution_count": null,
   "metadata": {
    "collapsed": true
   },
   "outputs": [],
   "source": [
    "import pandas as pd\n",
    "import numpy as np\n",
    "import time\n",
    "starttime = time.clock() \n",
    "test = pd.read_csv('joint_all.csv')\n",
    "test=test[(test.DX == 0) | (test.DX == 1)] #取出DX為0跟1的case\n",
    "data=test.as_matrix() #將test存成矩陣\n",
    "\n",
    "\n",
    "X=data[:, np.arange(2,data.shape[1])] #取出2,3,4005+90筆\n",
    "\n",
    "y=data[:,1] #取出DX那一行\n",
    "X[np.isnan(X)]=0 #把 nan改成0\n",
    "X_normed = X / X.max(axis=0)\n",
    "X = X_normed\n",
    "\n",
    "#將X y隨機排序\n",
    "randsort=np.argsort(np.random.rand(y.size)) \n",
    "X=X[randsort]\n",
    "y=y[randsort]\n",
    "\n",
    "from sklearn.cross_validation import StratifiedKFold\n",
    "from sklearn.feature_selection import RFECV\n",
    "from sklearn.svm import SVC\n",
    "from sklearn import svm, metrics\n",
    "from sklearn.cross_validation import LeaveOneOut\n",
    "from sklearn.cross_validation import cross_val_score\n",
    "\n",
    "\n",
    "svc = SVC(kernel=\"linear\")\n",
    "rfecv = RFECV(estimator=svc, step=1, cv=LeaveOneOut(171),scoring='accuracy')\n",
    "rfecv.fit(X, y)\n",
    "print(\"Optimal number of features : %d\" % rfecv.n_features_)\n",
    "print(\"max score: %f\" % np.max(rfecv.grid_scores_))\n",
    "print rfecv.support_\n",
    "print np.nonzero(rfecv.support_)\n",
    "print(rfecv.grid_scores_)\n",
    "#score=cross_val_score(svc,X,y,scoring='accuracy', cv=LeaveOneOut(171))\n",
    "#print(np.mean(score))\n",
    "'''\n",
    "n_samples = len(y)\n",
    "classifier = SVC(kernel=\"linear\")\n",
    "\n",
    "# 用前半部份的資料來訓練\n",
    "classifier.fit(X[:n_samples / 2], y[:n_samples / 2])\n",
    "\n",
    "# Now predict the value of the digit on the second half:\n",
    "expected = y[n_samples / 2:]\n",
    "#利用後半部份的資料來測試分類器\n",
    "predicted = classifier.predict(X[n_samples / 2:])\n",
    "\n",
    "print(\"Classification report for classifier %s:\\n%s\\n\"\n",
    "      % (classifier, metrics.classification_report(expected, predicted)))\n",
    "print(\"Confusion matrix:\\n%s\" % metrics.confusion_matrix(expected, predicted))\n",
    "'''\n",
    "endtime = time.clock() \n",
    "print(\"cost time：%s\" %(endtime-starttime))"
   ]
  }
 ],
 "metadata": {
  "kernelspec": {
   "display_name": "Python 2",
   "language": "python",
   "name": "python2"
  },
  "language_info": {
   "codemirror_mode": {
    "name": "ipython",
    "version": 2
   },
   "file_extension": ".py",
   "mimetype": "text/x-python",
   "name": "python",
   "nbconvert_exporter": "python",
   "pygments_lexer": "ipython2",
   "version": "2.7.11"
  }
 },
 "nbformat": 4,
 "nbformat_minor": 0
}
