{
 "cells": [
  {
   "cell_type": "code",
   "execution_count": 1,
   "metadata": {
    "collapsed": false
   },
   "outputs": [
    {
     "name": "stdout",
     "output_type": "stream",
     "text": [
      "Optimal number of features : 25\n",
      "max score: 0.643275\n",
      "[ True False False ..., False False False]\n",
      "(array([   0,   53,  164,  486,  492,  688,  709,  877, 1194, 1248, 1273,\n",
      "       1371, 1383, 1441, 1526, 2069, 2229, 2450, 2729, 2955, 3157, 3283,\n",
      "       3434, 3715, 3777], dtype=int64),)\n",
      "cost time：77025.7413928\n"
     ]
    }
   ],
   "source": [
    "#DX = 0,1 2+4005 no normal\n",
    "import pandas as pd\n",
    "import numpy as np\n",
    "import time\n",
    "starttime = time.clock() \n",
    "test = pd.read_csv('joint_all.csv')\n",
    "test=test[(test.DX == 0) | (test.DX == 1)] #取出DX為0跟1的case\n",
    "data=test.as_matrix() #將test存成矩陣\n",
    "\n",
    "X=data[:, np.append(np.array((2,3)),np.arange(4,4009))] #取出ecxel的2,3,4005 [1]為colume [0]為row\n",
    "\n",
    "y=data[:,1] #取出DX那一行\n",
    "X[np.isnan(X)]=0 #把 nan改成0\n",
    "\n",
    "#將X y隨機排序\n",
    "randsort=np.argsort(np.random.rand(y.size)) \n",
    "X=X[randsort]\n",
    "y=y[randsort]\n",
    "\n",
    "from sklearn.cross_validation import StratifiedKFold\n",
    "from sklearn.feature_selection import RFECV\n",
    "from sklearn.svm import SVC\n",
    "from sklearn.cross_validation import LeaveOneOut\n",
    "from sklearn.cross_validation import cross_val_score\n",
    "from sklearn import svm, metrics\n",
    "\n",
    "svc = SVC(kernel=\"linear\")\n",
    "rfecv = RFECV(estimator=svc, step=1, cv=LeaveOneOut(171), scoring='accuracy')\n",
    "rfecv.fit(X, y)\n",
    "print(\"Optimal number of features : %d\" % rfecv.n_features_)\n",
    "print(\"max score: %f\" % np.max(rfecv.grid_scores_))\n",
    "print rfecv.support_\n",
    "print np.nonzero(rfecv.support_)\n",
    "\n",
    "endtime = time.clock() \n",
    "print(\"cost time：%s\" %(endtime-starttime))"
   ]
  },
  {
   "cell_type": "code",
   "execution_count": 24,
   "metadata": {
    "collapsed": false
   },
   "outputs": [
    {
     "name": "stdout",
     "output_type": "stream",
     "text": [
      "Optimal number of features : 24\n",
      "max score: 0.976608\n",
      "[ True  True  True  True  True  True  True  True  True  True  True  True\n",
      " False  True  True  True  True  True  True  True  True  True  True  True\n",
      "  True]\n",
      "(array([ 0,  1,  2,  3,  4,  5,  6,  7,  8,  9, 10, 11, 13, 14, 15, 16, 17,\n",
      "       18, 19, 20, 21, 22, 23, 24], dtype=int64),)\n",
      "cost time：36.5812115574\n"
     ]
    }
   ],
   "source": [
    "#DX = 0,1 2+4005 no normal\n",
    "import pandas as pd\n",
    "import numpy as np\n",
    "import time\n",
    "starttime = time.clock() \n",
    "test = pd.read_csv('joint_all.csv')\n",
    "test=test[(test.DX == 0) | (test.DX == 1)] #取出DX為0跟1的case\n",
    "data=test.as_matrix() #將test存成矩陣\n",
    "\n",
    "X=data[:, np.array((2,   55,  166,  488,  494,  690,  711,  879, 1196, 1250, 1275,\n",
    "                   1373, 1385, 1443, 1528, 2071, 2231, 2452, 2731, 2957, 3159, 3285,\n",
    "                   3436, 3717, 3779))]\n",
    "\n",
    "y=data[:,1] #取出DX那一行\n",
    "X[np.isnan(X)]=0 #把 nan改成0\n",
    "\n",
    "#將X y隨機排序\n",
    "randsort=np.argsort(np.random.rand(y.size)) \n",
    "X=X[randsort]\n",
    "y=y[randsort]\n",
    "\n",
    "from sklearn.cross_validation import StratifiedKFold\n",
    "from sklearn.feature_selection import RFECV\n",
    "from sklearn.svm import SVC\n",
    "from sklearn.cross_validation import LeaveOneOut\n",
    "from sklearn.cross_validation import cross_val_score\n",
    "from sklearn import svm, metrics\n",
    "\n",
    "svc = SVC(kernel=\"linear\")\n",
    "rfecv = RFECV(estimator=svc, step=1, cv=LeaveOneOut(171), scoring='accuracy')\n",
    "rfecv.fit(X, y)\n",
    "print(\"Optimal number of features : %d\" % rfecv.n_features_)\n",
    "print(\"max score: %f\" % np.max(rfecv.grid_scores_))\n",
    "print rfecv.support_\n",
    "print np.nonzero(rfecv.support_)\n",
    "\n",
    "endtime = time.clock() \n",
    "print(\"cost time：%s\" %(endtime-starttime))"
   ]
  },
  {
   "cell_type": "code",
   "execution_count": 25,
   "metadata": {
    "collapsed": false
   },
   "outputs": [
    {
     "name": "stdout",
     "output_type": "stream",
     "text": [
      "Optimal number of features : 24\n",
      "max score: 0.976608\n",
      "[ True  True  True  True  True  True  True  True  True  True  True  True\n",
      "  True  True  True  True  True  True  True  True  True  True  True  True]\n",
      "(array([ 0,  1,  2,  3,  4,  5,  6,  7,  8,  9, 10, 11, 12, 13, 14, 15, 16,\n",
      "       17, 18, 19, 20, 21, 22, 23], dtype=int64),)\n",
      "cost time：34.9498691562\n"
     ]
    }
   ],
   "source": [
    "#DX = 0,1 2+4005 no normal\n",
    "import pandas as pd\n",
    "import numpy as np\n",
    "import time\n",
    "starttime = time.clock() \n",
    "test = pd.read_csv('joint_all.csv')\n",
    "test=test[(test.DX == 0) | (test.DX == 1)] #取出DX為0跟1的case\n",
    "data=test.as_matrix() #將test存成矩陣\n",
    "\n",
    "X=data[:, np.array((2,   55,  166,  488,  494,  690,  711,  879, 1196, 1250, 1275,\n",
    "                   1373,    1443, 1528, 2071, 2231, 2452, 2731, 2957, 3159, 3285,\n",
    "                   3436, 3717, 3779))]\n",
    "\n",
    "y=data[:,1] #取出DX那一行\n",
    "X[np.isnan(X)]=0 #把 nan改成0\n",
    "\n",
    "#將X y隨機排序\n",
    "randsort=np.argsort(np.random.rand(y.size)) \n",
    "X=X[randsort]\n",
    "y=y[randsort]\n",
    "\n",
    "from sklearn.cross_validation import StratifiedKFold\n",
    "from sklearn.feature_selection import RFECV\n",
    "from sklearn.svm import SVC\n",
    "from sklearn.cross_validation import LeaveOneOut\n",
    "from sklearn.cross_validation import cross_val_score\n",
    "from sklearn import svm, metrics\n",
    "\n",
    "svc = SVC(kernel=\"linear\")\n",
    "rfecv = RFECV(estimator=svc, step=1, cv=LeaveOneOut(171), scoring='accuracy')\n",
    "rfecv.fit(X, y)\n",
    "print(\"Optimal number of features : %d\" % rfecv.n_features_)\n",
    "print(\"max score: %f\" % np.max(rfecv.grid_scores_))\n",
    "print rfecv.support_\n",
    "print np.nonzero(rfecv.support_)\n",
    "\n",
    "endtime = time.clock() \n",
    "print(\"cost time：%s\" %(endtime-starttime))"
   ]
  },
  {
   "cell_type": "code",
   "execution_count": 26,
   "metadata": {
    "collapsed": false
   },
   "outputs": [
    {
     "name": "stdout",
     "output_type": "stream",
     "text": [
      "Optimal number of features : 23\n",
      "max score: 0.912281\n",
      "[ True  True  True  True  True  True  True  True  True  True  True  True\n",
      "  True  True  True  True  True  True  True  True  True  True  True]\n",
      "(array([ 0,  1,  2,  3,  4,  5,  6,  7,  8,  9, 10, 11, 12, 13, 14, 15, 16,\n",
      "       17, 18, 19, 20, 21, 22], dtype=int64),)\n",
      "cost time：27.7046959511\n"
     ]
    }
   ],
   "source": [
    "#DX = 0,1 2+4005 no normal\n",
    "import pandas as pd\n",
    "import numpy as np\n",
    "import time\n",
    "starttime = time.clock() \n",
    "test = pd.read_csv('joint_all.csv')\n",
    "test=test[(test.DX == 0) | (test.DX == 1)] #取出DX為0跟1的case\n",
    "data=test.as_matrix() #將test存成矩陣\n",
    "\n",
    "X=data[:, np.array((   55,  166,  488,  494,  690,  711,  879, 1196, 1250, 1275,\n",
    "                   1373,    1443, 1528, 2071, 2231, 2452, 2731, 2957, 3159, 3285,\n",
    "                   3436, 3717, 3779))]\n",
    "\n",
    "y=data[:,1] #取出DX那一行\n",
    "X[np.isnan(X)]=0 #把 nan改成0\n",
    "\n",
    "#將X y隨機排序\n",
    "randsort=np.argsort(np.random.rand(y.size)) \n",
    "X=X[randsort]\n",
    "y=y[randsort]\n",
    "\n",
    "from sklearn.cross_validation import StratifiedKFold\n",
    "from sklearn.feature_selection import RFECV\n",
    "from sklearn.svm import SVC\n",
    "from sklearn.cross_validation import LeaveOneOut\n",
    "from sklearn.cross_validation import cross_val_score\n",
    "from sklearn import svm, metrics\n",
    "\n",
    "svc = SVC(kernel=\"linear\")\n",
    "rfecv = RFECV(estimator=svc, step=1, cv=LeaveOneOut(171), scoring='accuracy')\n",
    "rfecv.fit(X, y)\n",
    "print(\"Optimal number of features : %d\" % rfecv.n_features_)\n",
    "print(\"max score: %f\" % np.max(rfecv.grid_scores_))\n",
    "print rfecv.support_\n",
    "print np.nonzero(rfecv.support_)\n",
    "\n",
    "endtime = time.clock() \n",
    "print(\"cost time：%s\" %(endtime-starttime))"
   ]
  },
  {
   "cell_type": "code",
   "execution_count": null,
   "metadata": {
    "collapsed": true
   },
   "outputs": [],
   "source": []
  }
 ],
 "metadata": {
  "kernelspec": {
   "display_name": "Python 2",
   "language": "python",
   "name": "python2"
  },
  "language_info": {
   "codemirror_mode": {
    "name": "ipython",
    "version": 2
   },
   "file_extension": ".py",
   "mimetype": "text/x-python",
   "name": "python",
   "nbconvert_exporter": "python",
   "pygments_lexer": "ipython2",
   "version": "2.7.11"
  }
 },
 "nbformat": 4,
 "nbformat_minor": 0
}
