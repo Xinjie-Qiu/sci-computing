{
 "cells": [
  {
   "cell_type": "code",
   "execution_count": 1,
   "metadata": {
    "collapsed": false
   },
   "outputs": [
    {
     "name": "stdout",
     "output_type": "stream",
     "text": [
      "Optimal number of features : 18\n",
      "max score: 0.678363\n",
      "[ True False False ..., False False False]\n",
      "(array([   0,  164,  578,  709,  736,  926, 1051, 1101, 1286, 1350, 1383,\n",
      "       1577, 2123, 2705, 2994, 3157, 3338, 3956], dtype=int64),)\n",
      "cost time：91145.2131138\n"
     ]
    }
   ],
   "source": [
    "#DX = 0,1 2+4005+90 normal\n",
    "import pandas as pd\n",
    "import numpy as np\n",
    "import time\n",
    "starttime = time.clock() \n",
    "test = pd.read_csv('joint_all.csv')\n",
    "test=test[(test.DX == 0) | (test.DX == 1)] #取出DX為0跟1的case\n",
    "data=test.as_matrix() #將test存成矩陣\n",
    "\n",
    "X=data[:, np.append(np.array((2,3)),np.arange(4,data.shape[1]))] #取出ecxel的2,3,4~最後 [1]為colume [0]為row\n",
    "\n",
    "y=data[:,1] #取出DX那一行\n",
    "X[np.isnan(X)]=0 #把 nan改成0\n",
    "X_normed = X / X.max(axis=0)\n",
    "X = X_normed\n",
    "\n",
    "#將X y隨機排序\n",
    "randsort=np.argsort(np.random.rand(y.size)) \n",
    "X=X[randsort]\n",
    "y=y[randsort]\n",
    "\n",
    "from sklearn.cross_validation import StratifiedKFold\n",
    "from sklearn.feature_selection import RFECV\n",
    "from sklearn.svm import SVC\n",
    "from sklearn.cross_validation import LeaveOneOut\n",
    "from sklearn.cross_validation import cross_val_score\n",
    "from sklearn import svm, metrics\n",
    "\n",
    "svc = SVC(kernel=\"linear\")\n",
    "rfecv = RFECV(estimator=svc, step=1, cv=LeaveOneOut(171), scoring='accuracy')\n",
    "rfecv.fit(X, y)\n",
    "print(\"Optimal number of features : %d\" % rfecv.n_features_)\n",
    "print(\"max score: %f\" % np.max(rfecv.grid_scores_))\n",
    "print rfecv.support_\n",
    "print np.nonzero(rfecv.support_)\n",
    "\n",
    "endtime = time.clock() \n",
    "print(\"cost time：%s\" %(endtime-starttime))"
   ]
  },
  {
   "cell_type": "code",
   "execution_count": 2,
   "metadata": {
    "collapsed": false
   },
   "outputs": [
    {
     "name": "stdout",
     "output_type": "stream",
     "text": [
      "Optimal number of features : 18\n",
      "max score: 0.853801\n",
      "[ True  True  True  True  True  True  True  True  True  True  True  True\n",
      "  True  True  True  True  True  True]\n",
      "(array([ 0,  1,  2,  3,  4,  5,  6,  7,  8,  9, 10, 11, 12, 13, 14, 15, 16,\n",
      "       17], dtype=int64),)\n",
      "cost time：19.7237103926\n"
     ]
    }
   ],
   "source": [
    "#DX = 0,1 2+4005+90 normal\n",
    "import pandas as pd\n",
    "import numpy as np\n",
    "import time\n",
    "starttime = time.clock() \n",
    "test = pd.read_csv('joint_all.csv')\n",
    "test=test[(test.DX == 0) | (test.DX == 1)] #取出DX為0跟1的case\n",
    "data=test.as_matrix() #將test存成矩陣\n",
    "\n",
    "X=data[:, np.array((2,  166,  580,  711,  738,  928, 1053, 1103, 1288, 1352, 1385,\n",
    "       1579, 2125, 2707, 2996, 3159, 3340, 3958))]\n",
    "\n",
    "y=data[:,1] #取出DX那一行\n",
    "X[np.isnan(X)]=0 #把 nan改成0\n",
    "X_normed = X / X.max(axis=0)\n",
    "X = X_normed\n",
    "\n",
    "#將X y隨機排序\n",
    "randsort=np.argsort(np.random.rand(y.size)) \n",
    "X=X[randsort]\n",
    "y=y[randsort]\n",
    "\n",
    "from sklearn.cross_validation import StratifiedKFold\n",
    "from sklearn.feature_selection import RFECV\n",
    "from sklearn.svm import SVC\n",
    "from sklearn.cross_validation import LeaveOneOut\n",
    "from sklearn.cross_validation import cross_val_score\n",
    "from sklearn import svm, metrics\n",
    "\n",
    "svc = SVC(kernel=\"linear\")\n",
    "rfecv = RFECV(estimator=svc, step=1, cv=LeaveOneOut(171), scoring='accuracy')\n",
    "rfecv.fit(X, y)\n",
    "print(\"Optimal number of features : %d\" % rfecv.n_features_)\n",
    "print(\"max score: %f\" % np.max(rfecv.grid_scores_))\n",
    "print rfecv.support_\n",
    "print np.nonzero(rfecv.support_)\n",
    "\n",
    "endtime = time.clock() \n",
    "print(\"cost time：%s\" %(endtime-starttime))"
   ]
  },
  {
   "cell_type": "code",
   "execution_count": 3,
   "metadata": {
    "collapsed": false
   },
   "outputs": [
    {
     "name": "stdout",
     "output_type": "stream",
     "text": [
      "Optimal number of features : 17\n",
      "max score: 0.847953\n",
      "[ True  True  True  True  True  True  True  True  True  True  True  True\n",
      "  True  True  True  True  True]\n",
      "(array([ 0,  1,  2,  3,  4,  5,  6,  7,  8,  9, 10, 11, 12, 13, 14, 15, 16], dtype=int64),)\n",
      "cost time：19.1546179629\n"
     ]
    }
   ],
   "source": [
    "#DX = 0,1 2+4005+90 normal\n",
    "import pandas as pd\n",
    "import numpy as np\n",
    "import time\n",
    "starttime = time.clock() \n",
    "test = pd.read_csv('joint_all.csv')\n",
    "test=test[(test.DX == 0) | (test.DX == 1)] #取出DX為0跟1的case\n",
    "data=test.as_matrix() #將test存成矩陣\n",
    "\n",
    "X=data[:, np.array((166,  580,  711,  738,  928, 1053, 1103, 1288, 1352, 1385,\n",
    "       1579, 2125, 2707, 2996, 3159, 3340, 3958))]\n",
    "\n",
    "y=data[:,1] #取出DX那一行\n",
    "X[np.isnan(X)]=0 #把 nan改成0\n",
    "X_normed = X / X.max(axis=0)\n",
    "X = X_normed\n",
    "\n",
    "#將X y隨機排序\n",
    "randsort=np.argsort(np.random.rand(y.size)) \n",
    "X=X[randsort]\n",
    "y=y[randsort]\n",
    "\n",
    "from sklearn.cross_validation import StratifiedKFold\n",
    "from sklearn.feature_selection import RFECV\n",
    "from sklearn.svm import SVC\n",
    "from sklearn.cross_validation import LeaveOneOut\n",
    "from sklearn.cross_validation import cross_val_score\n",
    "from sklearn import svm, metrics\n",
    "\n",
    "svc = SVC(kernel=\"linear\")\n",
    "rfecv = RFECV(estimator=svc, step=1, cv=LeaveOneOut(171), scoring='accuracy')\n",
    "rfecv.fit(X, y)\n",
    "print(\"Optimal number of features : %d\" % rfecv.n_features_)\n",
    "print(\"max score: %f\" % np.max(rfecv.grid_scores_))\n",
    "print rfecv.support_\n",
    "print np.nonzero(rfecv.support_)\n",
    "\n",
    "endtime = time.clock() \n",
    "print(\"cost time：%s\" %(endtime-starttime))"
   ]
  },
  {
   "cell_type": "code",
   "execution_count": null,
   "metadata": {
    "collapsed": true
   },
   "outputs": [],
   "source": []
  }
 ],
 "metadata": {
  "kernelspec": {
   "display_name": "Python 2",
   "language": "python",
   "name": "python2"
  },
  "language_info": {
   "codemirror_mode": {
    "name": "ipython",
    "version": 2
   },
   "file_extension": ".py",
   "mimetype": "text/x-python",
   "name": "python",
   "nbconvert_exporter": "python",
   "pygments_lexer": "ipython2",
   "version": "2.7.11"
  }
 },
 "nbformat": 4,
 "nbformat_minor": 0
}
