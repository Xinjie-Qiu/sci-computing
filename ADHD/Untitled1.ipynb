{
 "cells": [
  {
   "cell_type": "code",
   "execution_count": 6,
   "metadata": {
    "collapsed": false,
    "scrolled": true
   },
   "outputs": [
    {
     "name": "stdout",
     "output_type": "stream",
     "text": [
      "Classification report for classifier SVC(C=1.0, cache_size=200, class_weight=None, coef0=0.0,\n",
      "  decision_function_shape=None, degree=3, gamma='auto', kernel='linear',\n",
      "  max_iter=-1, probability=False, random_state=None, shrinking=True,\n",
      "  tol=0.001, verbose=False):\n",
      "             precision    recall  f1-score   support\n",
      "\n",
      "        0.0       0.98      1.00      0.99        46\n",
      "        1.0       1.00      0.97      0.99        40\n",
      "\n",
      "avg / total       0.99      0.99      0.99        86\n",
      "\n",
      "\n",
      "Confusion matrix:\n",
      "[[46  0]\n",
      " [ 1 39]]\n",
      "cost time：0.415616507914\n"
     ]
    }
   ],
   "source": [
    "import pandas as pd\n",
    "import numpy as np\n",
    "import time\n",
    "starttime = time.clock() \n",
    "test = pd.read_csv('joint_all.csv')\n",
    "test=test[(test.DX == 0) | (test.DX == 1)] #取出DX為0跟1的case\n",
    "data=test.as_matrix() #將test存成矩陣\n",
    "\n",
    "#X=data[:, np.append(np.array((2,3)),np.arange(4009,data.shape[1]))] #取出ecxel的2,3,4010~最後 [1]為colume [0]為row\n",
    "#X=data[:, np.array((2,4055,4084,4086,4087,4091))]\n",
    "\n",
    "#X=data[:, np.arange(2,data.shape[1])] #取出2,3,4005+90筆\n",
    "'''X=data[:, np.array((2,116,  166,  178,  190,  217,  235,  335,  390,  421,  488,\n",
    "        509,  514,  546,  580,  706,  711,  879,  955, 1053, 1103, 1250,\n",
    "       1275, 1289, 1302, 1334, 1353, 1373, 1385, 1443, 1511, 1528, 1769,\n",
    "       1910, 1958, 2054, 2061, 2071, 2445, 2707, 2731, 2758, 2852, 2949,\n",
    "       2955, 2957, 3019, 3145, 3159, 3231, 3254, 3285, 3318, 3403, 3424,\n",
    "       3436, 3446, 3504, 3511, 3552, 3649, 3717, 3744, 3779, 3788, 3811,\n",
    "       3978))]'''\n",
    "'''X=data[:, np.array((2,116,  166,  178,  190,  217,  235,  335,  390     ,  488,\n",
    "            509,  514,  546,  580,  706,  711,  879,  955    , 1103, 1250,\n",
    "       1275, 1289    , 1334, 1353, 1373, 1385, 1443, 1511, 1528, 1769,\n",
    "       1910, 1958, 2054, 2061, 2071, 2445, 2707, 2731, 2758, 2852, 2949,\n",
    "       2955, 2957, 3019    , 3159, 3231, 3254, 3285, 3318, 3403    ,\n",
    "       3436, 3446, 3504, 3511, 3552, 3649, 3717, 3744, 3779, 3788, 3811,\n",
    "       3978))]'''\n",
    "'''X=data[:, np.array((2,116,  166,  178,  190,  217,  235,  335,  390     ,  488,\n",
    "            509,  514,  546,  580,  706,  711,  879,  955    , 1250,\n",
    "       1275, 1289    , 1334, 1353, 1373, 1385, 1443, 1511 ,\n",
    "       1910, 1958, 2054, 2061, 2071, 2445, 2707, 2731, 2758, 2852, 2949,\n",
    "        2957, 3019    , 3159, 3231, 3254, 3285, 3318, 3403    ,\n",
    "       3436, 3446, 3504, 3511, 3552, 3649, 3717, 3744, 3779, 3788, 3811,\n",
    "       3978))]'''\n",
    "'''X=data[:, np.array((2,116,  166,  178,  190,  217,  235,  335,  390     ,  488,\n",
    "            509,  514,  546,  580,  706,  711,  879,  955    , 1250,\n",
    "       1275, 1289    , 1334, 1353, 1373 , 1443, 1511 ,\n",
    "       1910, 1958, 2054, 2061, 2071, 2445, 2707, 2731, 2758, 2852, 2949,\n",
    "        2957, 3019    , 3159, 3231, 3254, 3285, 3318, 3403    ,\n",
    "       3436, 3446, 3504, 3511, 3552, 3649, 3717, 3744, 3779, 3788, 3811,\n",
    "       3978))]'''\n",
    "'''X=data[:, np.array((2,116,  166,  178,  190,  217,  235,  335,  390     ,  488,\n",
    "            509,  514,  546,  580,  706,  711,  879,  955    , 1250,\n",
    "       1275, 1289    , 1334, 1353, 1373 , 1443, 1511 ,\n",
    "       1910, 1958, 2054, 2061, 2071, 2445, 2707, 2731, 2758, 2852, 2949,\n",
    "        2957, 3019    , 3159, 3231, 3254, 3285, 3318, 3403    ,\n",
    "       3436 , 3504, 3511, 3552, 3649, 3717, 3744, 3779, 3788, 3811,\n",
    "       3978))]'''\n",
    "'''X=data[:, np.array((2,116,  166,  178,  190,  217,  235,  335,  390     ,  488,\n",
    "            509,  514,  546,  580,  706,  711,  879,  955    , 1250,\n",
    "       1275, 1289    , 1334, 1353, 1373 , 1443, 1511 ,\n",
    "       1910, 1958, 2054, 2061, 2071, 2445, 2707, 2731, 2758, 2852, 2949,\n",
    "        2957, 3019    , 3159, 3231, 3254, 3285, 3318, 3403    ,\n",
    "       3436 ,  3511, 3552, 3649, 3717, 3744, 3779, 3788, 3811,\n",
    "       3978))]'''\n",
    "'''X=data[:, np.array((116,  166,  178,  190,  217,  235,  335,  390     ,  488,\n",
    "            509,  514,  546,  580,  706,  711,  879,  955    , 1250,\n",
    "       1275, 1289    , 1334, 1353, 1373 , 1443, 1511 ,\n",
    "       1910, 1958, 2054, 2061, 2071, 2445, 2707, 2731, 2758, 2852, 2949,\n",
    "        2957, 3019    , 3159, 3231, 3254, 3285, 3318, 3403    ,\n",
    "       3436 ,  3511, 3552, 3649, 3717, 3744, 3779, 3788, 3811,\n",
    "       3978))]'''\n",
    "X=data[:, np.array((116,  166,  178,  190,  217,  235,  335,  390     ,  488,\n",
    "            509,  514,  546,  580,  706,  711,  879,  955    , 1250,\n",
    "       1275, 1353, 1373 , 1443, 1511 ,\n",
    "       1910, 1958, 2054, 2061, 2071, 2445, 2707, 2731, 2758, 2852, 2949,\n",
    "        2957, 3019    , 3159, 3231, 3254, 3285, 3318, 3403    ,\n",
    "       3436 ,  3511, 3552, 3649, 3717, 3744, 3779, 3788, 3811,\n",
    "       3978))]\n",
    "\n",
    "y=data[:,1] #取出DX那一行\n",
    "X[np.isnan(X)]=0 #把 nan改成0\n",
    "X_normed = (X - X.min(axis=0)) / (X.max(axis=0) - X.min(axis=0))\n",
    "X = X_normed\n",
    "\n",
    "#將X y隨機排序\n",
    "randsort=np.argsort(np.random.rand(y.size)) \n",
    "X=X[randsort]\n",
    "y=y[randsort]\n",
    "\n",
    "from sklearn.cross_validation import StratifiedKFold\n",
    "from sklearn.feature_selection import RFECV\n",
    "from sklearn.svm import SVC\n",
    "from sklearn.cross_validation import LeaveOneOut\n",
    "from sklearn.cross_validation import cross_val_score\n",
    "from sklearn import svm, metrics\n",
    "\n",
    "svc = SVC(kernel=\"linear\")\n",
    "rfecv = RFECV(estimator=svc, step=1, cv=LeaveOneOut(171), scoring='accuracy')\n",
    "rfecv.fit(X, y)\n",
    "print(\"Optimal number of features : %d\" % rfecv.n_features_)\n",
    "print(\"max score: %f\" % np.max(rfecv.grid_scores_))\n",
    "print rfecv.support_\n",
    "print np.nonzero(rfecv.support_)\n",
    "\n",
    "'''score=cross_val_score(svc,X,y,scoring='accuracy', cv=LeaveOneOut(171))\n",
    "print(np.mean(score))'''\n",
    "\n",
    "\n",
    "'''n_samples = len(y)\n",
    "classifier = SVC(kernel=\"linear\")\n",
    "\n",
    "# 用前半部份的資料來訓練\n",
    "classifier.fit(X[:n_samples / 2], y[:n_samples / 2])\n",
    "# Now predict the value of the digit on the second half:\n",
    "expected = y[n_samples / 2:]\n",
    "#利用後半部份的資料來測試分類器\n",
    "predicted = classifier.predict(X[n_samples / 2:])\n",
    "\n",
    "print(\"Classification report for classifier %s:\\n%s\\n\"\n",
    "      % (classifier, metrics.classification_report(expected, predicted)))\n",
    "print(\"Confusion matrix:\\n%s\" % metrics.confusion_matrix(expected, predicted))\n",
    "'''\n",
    "\n",
    "endtime = time.clock() \n",
    "print(\"cost time：%s\" %(endtime-starttime))"
   ]
  },
  {
   "cell_type": "code",
   "execution_count": null,
   "metadata": {
    "collapsed": true
   },
   "outputs": [],
   "source": []
  },
  {
   "cell_type": "code",
   "execution_count": null,
   "metadata": {
    "collapsed": true
   },
   "outputs": [],
   "source": []
  },
  {
   "cell_type": "code",
   "execution_count": 5,
   "metadata": {
    "collapsed": false,
    "scrolled": true
   },
   "outputs": [
    {
     "name": "stdout",
     "output_type": "stream",
     "text": [
      "(4L, 3L)\n"
     ]
    }
   ],
   "source": [
    "X = np.array([[1.1,2,3.5],[3,4.8,5],[5.2,6,7.6],[7.4,8.5,9.7]])\n",
    "print (X.shape)"
   ]
  },
  {
   "cell_type": "code",
   "execution_count": 6,
   "metadata": {
    "collapsed": false
   },
   "outputs": [
    {
     "name": "stdout",
     "output_type": "stream",
     "text": [
      "[[ 1.1  2.   3.5]\n",
      " [ 3.   4.8  5. ]\n",
      " [ 5.2  6.   7.6]\n",
      " [ 7.4  8.5  9.7]]\n"
     ]
    }
   ],
   "source": [
    "print(X)"
   ]
  },
  {
   "cell_type": "code",
   "execution_count": 7,
   "metadata": {
    "collapsed": true
   },
   "outputs": [],
   "source": [
    "X_normed = (X - X.min(axis=0)) / (X.max(axis=0) - X.min(axis=0))\n",
    "X = X_normed"
   ]
  },
  {
   "cell_type": "code",
   "execution_count": 8,
   "metadata": {
    "collapsed": false
   },
   "outputs": [
    {
     "name": "stdout",
     "output_type": "stream",
     "text": [
      "[[ 0.          0.          0.        ]\n",
      " [ 0.3015873   0.43076923  0.24193548]\n",
      " [ 0.65079365  0.61538462  0.66129032]\n",
      " [ 1.          1.          1.        ]]\n"
     ]
    }
   ],
   "source": [
    "print(X)"
   ]
  },
  {
   "cell_type": "code",
   "execution_count": null,
   "metadata": {
    "collapsed": true
   },
   "outputs": [],
   "source": []
  }
 ],
 "metadata": {
  "kernelspec": {
   "display_name": "Python 2",
   "language": "python",
   "name": "python2"
  },
  "language_info": {
   "codemirror_mode": {
    "name": "ipython",
    "version": 2
   },
   "file_extension": ".py",
   "mimetype": "text/x-python",
   "name": "python",
   "nbconvert_exporter": "python",
   "pygments_lexer": "ipython2",
   "version": "2.7.11"
  }
 },
 "nbformat": 4,
 "nbformat_minor": 0
}
